{
 "cells": [
  {
   "cell_type": "code",
   "execution_count": 30,
   "metadata": {
    "collapsed": false
   },
   "outputs": [
    {
     "name": "stdout",
     "output_type": "stream",
     "text": [
      "Once deleted, variables cannot be recovered. Proceed (y/[n])? y\n"
     ]
    }
   ],
   "source": [
    "%reset\n",
    "def acsCompareFunc(inputPath, outputPath, numIndustries, version, percentSample, naics):\n",
    "\n",
    "    #Setting up directories\n",
    "    inputFile = inputPath + \"/ACS/PUM_2005_2014.csv\"\n",
    "    outputFile = outputPath \n",
    "    #Import data\n",
    "    acsData = pd.read_csv(inputFile)\n",
    "    print len(acsData), acsData.columns\n",
    "\n",
    "    #Number of workers in each industry, by year\n",
    "    cTab = pd.crosstab(acsData[naics], acsData['year'])\n",
    "    print \"Next\"\n",
    "    #Number of workers in each industry, by year, split on nonprofit\n",
    "    cTabInd = pd.crosstab([acsData['non_profit_acs'], acsData[naics]], acsData['year'])\n",
    "    #Find top 10 non-profit industries in 2005 and 2012\n",
    "    cTab2005 = pd.DataFrame(cTabInd.loc[0][2005].copy())\n",
    "    cTab2005.sort_values(by = 2005, ascending = 0, inplace= True)\n",
    "    cTab2005.drop(cTab2005.index[numIndustries:], inplace = True)\n",
    "    print cTab2005, 'cTab2005'\n",
    "\n",
    "    cTab2012 = pd.DataFrame(cTabInd.loc[0][2012].copy())\n",
    "    cTab2012.sort_values(by = 2012, ascending = 0, inplace= True)\n",
    "    cTab2012.drop(cTab2012.index[numIndustries:], inplace = True)\n",
    "    print cTab2012, \"Ctab2012\"\n",
    "    \n",
    "    #Find percentages\n",
    "#     cTab.reset_index(level=0, inplace = True)\n",
    "    cTabJoin =cTab2005.join(cTab[2005], rsuffix = \"total\")\n",
    "\n",
    "    #Clean up table and export it to latex and excel\n",
    "    return acsData, cTabJoin, cTab2005, cTab2012"
   ]
  },
  {
   "cell_type": "code",
   "execution_count": 31,
   "metadata": {
    "collapsed": true
   },
   "outputs": [],
   "source": [
    "import pandas as pd\n",
    "import numpy as np"
   ]
  },
  {
   "cell_type": "code",
   "execution_count": 32,
   "metadata": {
    "collapsed": false
   },
   "outputs": [
    {
     "name": "stdout",
     "output_type": "stream",
     "text": [
      "Here we are\n",
      "453013 Index([u'yearlyWage', u'naics_2d_acs', u'naics_3d_acs', u'year',\n",
      "       u'quarterWage', u'non_profit_acs'],\n",
      "      dtype='object')\n",
      "Next\n",
      "              2005\n",
      "naics_3d_acs      \n",
      "541.0         3322\n",
      "621.0         2184\n",
      "561.0         1807\n",
      "722.0         1571\n",
      "622.0         1472\n",
      "423.0         1241\n",
      "531.0         1178\n",
      "524.0         1134\n",
      "424.0          959\n",
      "441.0          955 cTab2005\n",
      "              2012\n",
      "naics_3d_acs      \n",
      "541.0         3554\n",
      "621.0         2799\n",
      "561.0         2049\n",
      "722.0         1991\n",
      "622.0         1675\n",
      "524.0         1258\n",
      "445.0         1065\n",
      "611.0          981\n",
      "452.0          980\n",
      "531.0          914 Ctab2012\n"
     ]
    }
   ],
   "source": [
    "dataRAW = \"../dataRAW\"\n",
    "dataSTATA = \"../dataSTATA\"\n",
    "numInd = 10\n",
    "version = \"V3\"\n",
    "perSamp = 10\n",
    "naics = \"naics_3d_acs\"\n",
    "print \"Here we are\"\n",
    "acsDat, cTabJoin, cTab2005, cTab2012 = acsCompareFunc(dataRAW, dataSTATA, numInd, version, perSamp, naics)"
   ]
  },
  {
   "cell_type": "code",
   "execution_count": 33,
   "metadata": {
    "collapsed": false
   },
   "outputs": [
    {
     "name": "stdout",
     "output_type": "stream",
     "text": [
      "              2005  2005total\n",
      "naics_3d_acs                 \n",
      "541.0         3322       3400\n",
      "621.0         2184       2463\n",
      "561.0         1807       1872\n",
      "722.0         1571       1597\n",
      "622.0         1472       2499\n",
      "423.0         1241       1248\n",
      "531.0         1178       1226\n",
      "524.0         1134       1209\n",
      "424.0          959        970\n",
      "441.0          955        963\n"
     ]
    }
   ],
   "source": [
    "print cTabJoin\n",
    "print "
   ]
  }
 ],
 "metadata": {
  "kernelspec": {
   "display_name": "Python 2",
   "language": "python",
   "name": "python2"
  },
  "language_info": {
   "codemirror_mode": {
    "name": "ipython",
    "version": 2
   },
   "file_extension": ".py",
   "mimetype": "text/x-python",
   "name": "python",
   "nbconvert_exporter": "python",
   "pygments_lexer": "ipython2",
   "version": "2.7.13"
  }
 },
 "nbformat": 4,
 "nbformat_minor": 2
}
